{
 "cells": [
  {
   "cell_type": "markdown",
   "metadata": {},
   "source": [
    "Double-click to insert team members' names here:"
   ]
  },
  {
   "cell_type": "code",
   "execution_count": 6,
   "metadata": {},
   "outputs": [],
   "source": [
    "from sympy import *\n",
    "from sympy.plotting import (plot, plot_parametric)"
   ]
  },
  {
   "cell_type": "markdown",
   "metadata": {},
   "source": [
    "#1a Evaluate expression"
   ]
  },
  {
   "cell_type": "code",
   "execution_count": 11,
   "metadata": {
    "scrolled": true
   },
   "outputs": [
    {
     "name": "stdout",
     "output_type": "stream",
     "text": [
      "The solution to 1a is 39.3419462186456\n"
     ]
    }
   ],
   "source": [
    "print(\"The solution to 1a is\", sqrt(8+(80/2.6)) + E**3.5 )"
   ]
  },
  {
   "cell_type": "markdown",
   "metadata": {},
   "source": [
    "#1b Evaluate expression"
   ]
  },
  {
   "cell_type": "code",
   "execution_count": 14,
   "metadata": {},
   "outputs": [
    {
     "name": "stdout",
     "output_type": "stream",
     "text": [
      "The solution to 1b is 8.74958755825782\n"
     ]
    }
   ],
   "source": [
    "print(\"The solution to 1b is\", (23 + 45**(1/3))/(16 * 0.7) + ln(589.006))"
   ]
  },
  {
   "cell_type": "markdown",
   "metadata": {},
   "source": [
    "#2a Evaluate variable expression"
   ]
  },
  {
   "cell_type": "code",
   "execution_count": 16,
   "metadata": {},
   "outputs": [
    {
     "name": "stdout",
     "output_type": "stream",
     "text": [
      "The solution to 2a is 29.3244518525092\n"
     ]
    }
   ],
   "source": [
    "x = 4.6 \n",
    "y = 1.7\n",
    "\n",
    "print(\"The solution to 2a is\", (sqrt(x + y))/((x - y)**2) + (2 * (x**2)) - (x * (y**2))) "
   ]
  },
  {
   "cell_type": "markdown",
   "metadata": {},
   "source": [
    "#2b Evaluate variable expression and test equality"
   ]
  },
  {
   "cell_type": "code",
   "execution_count": 19,
   "metadata": {},
   "outputs": [
    {
     "name": "stdout",
     "output_type": "stream",
     "text": [
      "The answer is not equal to x + y\n"
     ]
    }
   ],
   "source": [
    "num1 = sqrt((x**2)+(y**2))\n",
    "num2 = x + y\n",
    "\n",
    "print(\"The answer is not equal to x + y\")"
   ]
  },
  {
   "cell_type": "markdown",
   "metadata": {},
   "source": [
    "#3a magnitudes of vectors"
   ]
  },
  {
   "cell_type": "code",
   "execution_count": 21,
   "metadata": {},
   "outputs": [
    {
     "name": "stdout",
     "output_type": "stream",
     "text": [
      "The solution to 3a is 17.0935923667320 11.1061649546547\n"
     ]
    }
   ],
   "source": [
    "a1 = 9.1\n",
    "a2 = 14.47\n",
    "\n",
    "b1 = -5.55\n",
    "b2 = 9.62\n",
    "\n",
    "magna = sqrt((a1**2) + (a2**2))\n",
    "magnb = sqrt((b1**2) + (b2**2))\n",
    "print(\"The solution to 3a is\", magna, magnb)"
   ]
  },
  {
   "cell_type": "markdown",
   "metadata": {},
   "source": [
    "#3b angle C using Law of Cosines"
   ]
  },
  {
   "cell_type": "code",
   "execution_count": 23,
   "metadata": {},
   "outputs": [
    {
     "name": "stdout",
     "output_type": "stream",
     "text": [
      "The solution to 3b is 0.467206128005667\n"
     ]
    }
   ],
   "source": [
    "c = sqrt((((a1 - b1)**2) + ((a2 - b2)**2)))\n",
    "cosC = ((magna**2) + (magnb**2) - (c**2))/(2 * magna * magnb)\n",
    "print(\"The solution to 3b is\", cosC)"
   ]
  },
  {
   "cell_type": "markdown",
   "metadata": {},
   "source": [
    "#3c angle C using dot product"
   ]
  },
  {
   "cell_type": "code",
   "execution_count": 25,
   "metadata": {},
   "outputs": [
    {
     "name": "stdout",
     "output_type": "stream",
     "text": [
      "The solution to 3c is 0.467206128005667\n"
     ]
    }
   ],
   "source": [
    "cosC2 = ((a1 * b1) + (a2 * b2))/(magna * magnb)\n",
    "print(\"The solution to 3c is\", cosC2)"
   ]
  },
  {
   "cell_type": "code",
   "execution_count": null,
   "metadata": {},
   "outputs": [],
   "source": []
  }
 ],
 "metadata": {
  "kernelspec": {
   "display_name": "Python 3",
   "language": "python",
   "name": "python3"
  },
  "language_info": {
   "codemirror_mode": {
    "name": "ipython",
    "version": 3
   },
   "file_extension": ".py",
   "mimetype": "text/x-python",
   "name": "python",
   "nbconvert_exporter": "python",
   "pygments_lexer": "ipython3",
   "version": "3.8.8"
  }
 },
 "nbformat": 4,
 "nbformat_minor": 2
}
